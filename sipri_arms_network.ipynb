{
 "cells": [
  {
   "cell_type": "code",
   "execution_count": 5,
   "metadata": {
    "collapsed": true
   },
   "outputs": [],
   "source": [
    "import pandas as pd\n",
    "import numpy as np\n",
    "data=pd.read_csv(\"/sipri-arms-by-seller-all.csv\")\n"
   ]
  },
  {
   "cell_type": "code",
   "execution_count": 6,
   "metadata": {
    "collapsed": false
   },
   "outputs": [
    {
     "data": {
      "text/html": [
       "<div>\n",
       "<table border=\"1\" class=\"dataframe\">\n",
       "  <thead>\n",
       "    <tr style=\"text-align: right;\">\n",
       "      <th></th>\n",
       "      <th>tidn</th>\n",
       "      <th>buyercod</th>\n",
       "      <th>sellercod</th>\n",
       "      <th>odat</th>\n",
       "      <th>odai</th>\n",
       "      <th>onum</th>\n",
       "      <th>onai</th>\n",
       "      <th>ldat</th>\n",
       "      <th>term</th>\n",
       "      <th>desig2</th>\n",
       "      <th>...</th>\n",
       "      <th>coprod</th>\n",
       "      <th>nrdel</th>\n",
       "      <th>nrdelai</th>\n",
       "      <th>delyears</th>\n",
       "      <th>buyer</th>\n",
       "      <th>seller</th>\n",
       "      <th>status</th>\n",
       "      <th>tivunit</th>\n",
       "      <th>tivorder</th>\n",
       "      <th>tivdel</th>\n",
       "    </tr>\n",
       "  </thead>\n",
       "  <tbody>\n",
       "    <tr>\n",
       "      <th>0</th>\n",
       "      <td>55238.0</td>\n",
       "      <td>BF</td>\n",
       "      <td>ALB</td>\n",
       "      <td>2011.0</td>\n",
       "      <td>X</td>\n",
       "      <td>12.0</td>\n",
       "      <td>X</td>\n",
       "      <td>2011.0</td>\n",
       "      <td>NaN</td>\n",
       "      <td>M-43 120mm</td>\n",
       "      <td>...</td>\n",
       "      <td>L</td>\n",
       "      <td>12.0</td>\n",
       "      <td>NaN</td>\n",
       "      <td>2011</td>\n",
       "      <td>Burkina Faso</td>\n",
       "      <td>Albania</td>\n",
       "      <td>S</td>\n",
       "      <td>0.020</td>\n",
       "      <td>0.240</td>\n",
       "      <td>0.240</td>\n",
       "    </tr>\n",
       "    <tr>\n",
       "      <th>1</th>\n",
       "      <td>3622.0</td>\n",
       "      <td>ANG</td>\n",
       "      <td>ALG</td>\n",
       "      <td>1980.0</td>\n",
       "      <td>NaN</td>\n",
       "      <td>4.0</td>\n",
       "      <td>NaN</td>\n",
       "      <td>1980.0</td>\n",
       "      <td>NaN</td>\n",
       "      <td>N-262 Fregate</td>\n",
       "      <td>...</td>\n",
       "      <td>L</td>\n",
       "      <td>4.0</td>\n",
       "      <td>NaN</td>\n",
       "      <td>1980</td>\n",
       "      <td>Angola</td>\n",
       "      <td>Algeria</td>\n",
       "      <td>S</td>\n",
       "      <td>1.500</td>\n",
       "      <td>6.000</td>\n",
       "      <td>6.000</td>\n",
       "    </tr>\n",
       "    <tr>\n",
       "      <th>2</th>\n",
       "      <td>11246.0</td>\n",
       "      <td>NIG</td>\n",
       "      <td>ALG</td>\n",
       "      <td>1967.0</td>\n",
       "      <td>NaN</td>\n",
       "      <td>2.0</td>\n",
       "      <td>X</td>\n",
       "      <td>1968.0</td>\n",
       "      <td>NaN</td>\n",
       "      <td>Il-28</td>\n",
       "      <td>...</td>\n",
       "      <td>L</td>\n",
       "      <td>2.0</td>\n",
       "      <td>X</td>\n",
       "      <td>1968</td>\n",
       "      <td>Nigeria</td>\n",
       "      <td>Algeria</td>\n",
       "      <td>S</td>\n",
       "      <td>2.880</td>\n",
       "      <td>5.760</td>\n",
       "      <td>5.760</td>\n",
       "    </tr>\n",
       "    <tr>\n",
       "      <th>3</th>\n",
       "      <td>3667.0</td>\n",
       "      <td>CON</td>\n",
       "      <td>ANG</td>\n",
       "      <td>1979.0</td>\n",
       "      <td>NaN</td>\n",
       "      <td>1.0</td>\n",
       "      <td>NaN</td>\n",
       "      <td>1979.0</td>\n",
       "      <td>AID</td>\n",
       "      <td>Noratlas</td>\n",
       "      <td>...</td>\n",
       "      <td>L</td>\n",
       "      <td>1.0</td>\n",
       "      <td>NaN</td>\n",
       "      <td>1979</td>\n",
       "      <td>Congo</td>\n",
       "      <td>Angola</td>\n",
       "      <td>S</td>\n",
       "      <td>2.800</td>\n",
       "      <td>2.800</td>\n",
       "      <td>2.800</td>\n",
       "    </tr>\n",
       "    <tr>\n",
       "      <th>4</th>\n",
       "      <td>3684.0</td>\n",
       "      <td>GBI</td>\n",
       "      <td>ANG</td>\n",
       "      <td>1980.0</td>\n",
       "      <td>NaN</td>\n",
       "      <td>1.0</td>\n",
       "      <td>NaN</td>\n",
       "      <td>1980.0</td>\n",
       "      <td>NaN</td>\n",
       "      <td>Do-27</td>\n",
       "      <td>...</td>\n",
       "      <td>L</td>\n",
       "      <td>1.0</td>\n",
       "      <td>NaN</td>\n",
       "      <td>1980</td>\n",
       "      <td>Guinea-Bissau</td>\n",
       "      <td>Angola</td>\n",
       "      <td>S</td>\n",
       "      <td>0.048</td>\n",
       "      <td>0.048</td>\n",
       "      <td>0.048</td>\n",
       "    </tr>\n",
       "  </tbody>\n",
       "</table>\n",
       "<p>5 rows × 22 columns</p>\n",
       "</div>"
      ],
      "text/plain": [
       "      tidn buyercod sellercod    odat odai  onum onai    ldat term  \\\n",
       "0  55238.0       BF       ALB  2011.0    X  12.0    X  2011.0  NaN   \n",
       "1   3622.0      ANG       ALG  1980.0  NaN   4.0  NaN  1980.0  NaN   \n",
       "2  11246.0      NIG       ALG  1967.0  NaN   2.0    X  1968.0  NaN   \n",
       "3   3667.0      CON       ANG  1979.0  NaN   1.0  NaN  1979.0  AID   \n",
       "4   3684.0      GBI       ANG  1980.0  NaN   1.0  NaN  1980.0  NaN   \n",
       "\n",
       "          desig2   ...   coprod nrdel nrdelai  delyears          buyer  \\\n",
       "0     M-43 120mm   ...        L  12.0     NaN      2011   Burkina Faso   \n",
       "1  N-262 Fregate   ...        L   4.0     NaN      1980         Angola   \n",
       "2          Il-28   ...        L   2.0       X      1968        Nigeria   \n",
       "3       Noratlas   ...        L   1.0     NaN      1979          Congo   \n",
       "4          Do-27   ...        L   1.0     NaN      1980  Guinea-Bissau   \n",
       "\n",
       "    seller status tivunit tivorder  tivdel  \n",
       "0  Albania      S   0.020    0.240   0.240  \n",
       "1  Algeria      S   1.500    6.000   6.000  \n",
       "2  Algeria      S   2.880    5.760   5.760  \n",
       "3   Angola      S   2.800    2.800   2.800  \n",
       "4   Angola      S   0.048    0.048   0.048  \n",
       "\n",
       "[5 rows x 22 columns]"
      ]
     },
     "execution_count": 6,
     "metadata": {},
     "output_type": "execute_result"
    }
   ],
   "source": [
    "data.head()"
   ]
  },
  {
   "cell_type": "code",
   "execution_count": 125,
   "metadata": {
    "collapsed": false
   },
   "outputs": [],
   "source": [
    "data['buyer'].replace(['Soviet Union'], \n",
    "    value='Russia',inplace=True)\n",
    "data['seller'].replace(['Soviet Union'], \n",
    "    value='Russia',inplace=True)\n",
    "\n",
    "\n",
    "country_names=pd.unique(data[['seller', 'buyer']].values.ravel())\n",
    "country_names=country_names[0:257]\n",
    "years=[x+1946 for x in range(74)]\n"
   ]
  },
  {
   "cell_type": "code",
   "execution_count": 188,
   "metadata": {
    "collapsed": false
   },
   "outputs": [],
   "source": [
    "def adjacency_year(data,year,country_names):\n",
    "    temp_dat=data.loc[data['odat'] == year]\n",
    "    adjacency=np.zeros(len(country_names)**2).reshape(len(country_names),len(country_names))\n",
    "    adjacency=pd.DataFrame(adjacency)\n",
    "    adjacency.columns=country_names\n",
    "    adjacency.index=country_names\n",
    "\n",
    "    for i in range(temp_dat.shape[0]):\n",
    "        adjacency.ix[temp_dat['seller'].iloc[i],temp_dat['buyer'].iloc[i]]=1\n",
    "    adjacency=np.array(adjacency)\n",
    "    adjacency=adjacency+adjacency.T\n",
    "    adjacency[adjacency>0]=1\n",
    "    adjacency=adjacency+np.diag(np.ones(len(country_names)))\n",
    "    return(adjacency)\n",
    "\n",
    "def adjacency_year_between(data,year,country_names):\n",
    "    temp_dat=data.iloc[np.where((year>=data['odat'])*1 *( data['ldat']>=year)*1)[0]]\n",
    "    adjacency=np.zeros(len(country_names)**2).reshape(len(country_names),len(country_names))\n",
    "    adjacency=pd.DataFrame(adjacency)\n",
    "    adjacency.columns=country_names\n",
    "    adjacency.index=country_names\n",
    "\n",
    "    for i in range(temp_dat.shape[0]):\n",
    "        adjacency.ix[temp_dat['seller'].iloc[i],temp_dat['buyer'].iloc[i]]=1\n",
    "    adjacency=np.array(adjacency)\n",
    "    adjacency=adjacency+adjacency.T\n",
    "    adjacency[adjacency>0]=1\n",
    "    adjacency=adjacency+np.diag(np.ones(len(country_names)))\n",
    "    return(adjacency)\n",
    "\n",
    "def create_pairs(x,y):\n",
    "    pairs=[]\n",
    "    labels=[]\n",
    "    for q in range(len(y)):\n",
    "        temp_x=x[q].copy()\n",
    "        temp_y=y[q].copy()\n",
    "        for i in range(len(temp_y)):\n",
    "            for j in range(len(temp_y)-i):\n",
    "                j=j+i\n",
    "                pairs += [[temp_x[i],temp_x[j]]] \n",
    "                labels += [temp_y[i,j]]\n",
    "    return(pairs,labels)\n"
   ]
  },
  {
   "cell_type": "code",
   "execution_count": 189,
   "metadata": {
    "collapsed": false
   },
   "outputs": [],
   "source": [
    "y_mat=[adjacency_year(data,x,country_names) for x in years]\n",
    "y_mat_between=[adjacency_year_between(data,x,country_names) for x in years]"
   ]
  },
  {
   "cell_type": "code",
   "execution_count": 190,
   "metadata": {
    "collapsed": true
   },
   "outputs": [],
   "source": [
    "x_mat=[np.column_stack((np.diag(np.ones(len(country_names))),(np.ones(len(country_names))*x-36.5)/22 )) for x in range(len(years))]\n"
   ]
  },
  {
   "cell_type": "code",
   "execution_count": 196,
   "metadata": {
    "collapsed": false
   },
   "outputs": [],
   "source": [
    "pairs, labels=create_pairs(x_mat,y_mat_between)\n",
    "pairs=np.array(pairs)\n",
    "labels=np.array(labels)\n"
   ]
  },
  {
   "cell_type": "code",
   "execution_count": 197,
   "metadata": {
    "collapsed": false
   },
   "outputs": [
    {
     "name": "stdout",
     "output_type": "stream",
     "text": [
      "Epoch 1/25\n",
      "2453322/2453322 [==============================] - 111s - loss: 0.0579   \n",
      "Epoch 2/25\n",
      "2453322/2453322 [==============================] - 95s - loss: 0.0279    \n",
      "Epoch 3/25\n",
      "2453322/2453322 [==============================] - 112s - loss: 0.0260   \n",
      "Epoch 4/25\n",
      "2453322/2453322 [==============================] - 104s - loss: 0.0249   \n",
      "Epoch 5/25\n",
      "2453322/2453322 [==============================] - 94s - loss: 0.0241    \n",
      "Epoch 6/25\n",
      "2453322/2453322 [==============================] - 91s - loss: 0.0233    \n",
      "Epoch 7/25\n",
      "2453322/2453322 [==============================] - 91s - loss: 0.0229    \n",
      "Epoch 8/25\n",
      "2453322/2453322 [==============================] - 91s - loss: 0.0225    \n",
      "Epoch 9/25\n",
      "2453322/2453322 [==============================] - 90s - loss: 0.0222    \n",
      "Epoch 10/25\n",
      "2453322/2453322 [==============================] - 90s - loss: 0.0220    \n",
      "Epoch 11/25\n",
      "2453322/2453322 [==============================] - 89s - loss: 0.0217    \n",
      "Epoch 12/25\n",
      "2453322/2453322 [==============================] - 90s - loss: 0.0216    \n",
      "Epoch 13/25\n",
      "2453322/2453322 [==============================] - 90s - loss: 0.0214    \n",
      "Epoch 14/25\n",
      "2453322/2453322 [==============================] - 92s - loss: 0.0213    \n",
      "Epoch 15/25\n",
      "2453322/2453322 [==============================] - 90s - loss: 0.0212    \n",
      "Epoch 16/25\n",
      "2453322/2453322 [==============================] - 90s - loss: 0.0210    \n",
      "Epoch 17/25\n",
      "2453322/2453322 [==============================] - 93s - loss: 0.0210    \n",
      "Epoch 18/25\n",
      "2453322/2453322 [==============================] - 90s - loss: 0.0209    \n",
      "Epoch 19/25\n",
      "2453322/2453322 [==============================] - 90s - loss: 0.0208    \n",
      "Epoch 20/25\n",
      "2453322/2453322 [==============================] - 91s - loss: 0.0207    \n",
      "Epoch 21/25\n",
      "2453322/2453322 [==============================] - 90s - loss: 0.0207    \n",
      "Epoch 22/25\n",
      "2453322/2453322 [==============================] - 90s - loss: 0.0206    \n",
      "Epoch 23/25\n",
      "2453322/2453322 [==============================] - 89s - loss: 0.0205    \n",
      "Epoch 24/25\n",
      "2453322/2453322 [==============================] - 91s - loss: 0.0204    \n",
      "Epoch 25/25\n",
      "2453322/2453322 [==============================] - 91s - loss: 0.0204    \n"
     ]
    }
   ],
   "source": [
    "import random\n",
    "from keras.datasets import mnist\n",
    "from keras.models import Sequential, Model\n",
    "from keras.layers import Dense, Dropout, Input, Lambda\n",
    "from keras.optimizers import RMSprop\n",
    "from keras import backend as K\n",
    "\n",
    "input_dim=258\n",
    "def euclidean_distance(vects):\n",
    "    x, y = vects\n",
    "    return K.sqrt(K.maximum(K.sum(K.square(x - y), axis=1, keepdims=True), K.epsilon()))\n",
    "\n",
    "\n",
    "def eucl_dist_output_shape(shapes):\n",
    "    shape1, shape2 = shapes\n",
    "    return (shape1[0], 1)\n",
    "\n",
    "\n",
    "def contrastive_loss(y_true, y_pred):\n",
    "    '''Contrastive loss from Hadsell-et-al.'06\n",
    "    http://yann.lecun.com/exdb/publis/pdf/hadsell-chopra-lecun-06.pdf\n",
    "    '''\n",
    "    margin = 1\n",
    "    return K.mean(y_true * K.square(y_pred) +\n",
    "                  (1-y_true) * K.square(K.maximum(margin - y_pred, 0)))\n",
    "\n",
    "\n",
    "def create_base_network(input_dim):\n",
    "    '''Base network to be shared (eq. to feature extraction).\n",
    "    '''\n",
    "    seq = Sequential()\n",
    "    seq.add(Dense(128, input_shape=(input_dim,), activation='relu'))\n",
    "    seq.add(Dropout(.1))\n",
    "    seq.add(Dense(128,activation='relu'))\n",
    "    seq.add(Dropout(.1))\n",
    "    seq.add(Dense(128,activation='relu'))\n",
    "\n",
    "    seq.add(Dense(2))\n",
    "    return seq\n",
    "\n",
    "\n",
    "def compute_accuracy(predictions, labels):\n",
    "    '''Compute classification accuracy with a fixed threshold on distances.\n",
    "    '''\n",
    "    return labels[predictions.ravel() < 0.5].mean()\n",
    "\n",
    "\n",
    "# the data, shuffled and split between train and test sets\n",
    "\n",
    "# network definition\n",
    "base_network = create_base_network(input_dim)\n",
    "\n",
    "input_a = Input(shape=(input_dim,))\n",
    "input_b = Input(shape=(input_dim,))\n",
    "\n",
    "# because we re-use the same instance `base_network`,\n",
    "# the weights of the network\n",
    "# will be shared across the two branches\n",
    "processed_a = base_network(input_a)\n",
    "processed_b = base_network(input_b)\n",
    "\n",
    "distance = Lambda(euclidean_distance,\n",
    "                  output_shape=eucl_dist_output_shape)([processed_a, processed_b])\n",
    "\n",
    "model = Model([input_a, input_b], distance)\n",
    "\n",
    "# train\n",
    "rms = RMSprop()\n",
    "model.compile(loss=contrastive_loss, optimizer=rms)\n",
    "model.fit([pairs[:, 0], pairs[:, 1]], labels,\n",
    "          batch_size=10240,\n",
    "          epochs=25)\n",
    "\n",
    "embeddings=Model([input_a], [processed_a])\n",
    "embeddings_all=embeddings.predict(np.row_stack(x_train_1))\n",
    "\n"
   ]
  },
  {
   "cell_type": "code",
   "execution_count": 198,
   "metadata": {
    "collapsed": false
   },
   "outputs": [],
   "source": [
    "from sklearn.manifold import SpectralEmbedding\n",
    "tsne_model = SpectralEmbedding(n_components=2,affinity='rbf')\n",
    "np.set_printoptions(suppress=True)\n",
    "output=tsne_model.fit_transform(embeddings_all)\n"
   ]
  },
  {
   "cell_type": "code",
   "execution_count": 199,
   "metadata": {
    "collapsed": false
   },
   "outputs": [],
   "source": [
    "\n",
    "pd.DataFrame(embeddings_all).to_csv('/users/sweiss/downloads/embedings_multiyear.csv')\n",
    "pd.DataFrame(output).to_csv('/users/sweiss/downloads/spectral_embbedings_multiyear.csv')\n"
   ]
  },
  {
   "cell_type": "code",
   "execution_count": 201,
   "metadata": {
    "collapsed": false
   },
   "outputs": [],
   "source": [
    "pd.DataFrame(country_names).to_csv('/users/sweiss/downloads/embeddings_countrynames.csv')\n",
    "\n"
   ]
  },
  {
   "cell_type": "code",
   "execution_count": null,
   "metadata": {
    "collapsed": false
   },
   "outputs": [],
   "source": []
  },
  {
   "cell_type": "code",
   "execution_count": null,
   "metadata": {
    "collapsed": false
   },
   "outputs": [],
   "source": []
  },
  {
   "cell_type": "code",
   "execution_count": 208,
   "metadata": {
    "collapsed": false
   },
   "outputs": [],
   "source": [
    "\n",
    "pd.DataFrame(np.row_stack(np.array(y_mat))).to_csv('/users/sweiss/downloads/network_singleyear.csv')\n",
    "pd.DataFrame(np.row_stack(np.array(y_mat_between))).to_csv('/users/sweiss/downloads/network_multiyear.csv')\n"
   ]
  },
  {
   "cell_type": "code",
   "execution_count": null,
   "metadata": {
    "collapsed": true
   },
   "outputs": [],
   "source": []
  }
 ],
 "metadata": {
  "kernelspec": {
   "display_name": "Python 3",
   "language": "python",
   "name": "python3"
  },
  "language_info": {
   "codemirror_mode": {
    "name": "ipython",
    "version": 3
   },
   "file_extension": ".py",
   "mimetype": "text/x-python",
   "name": "python",
   "nbconvert_exporter": "python",
   "pygments_lexer": "ipython3",
   "version": "3.5.1"
  }
 },
 "nbformat": 4,
 "nbformat_minor": 0
}
